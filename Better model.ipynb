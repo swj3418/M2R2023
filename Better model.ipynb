{
 "cells": [
  {
   "cell_type": "code",
   "execution_count": 1,
   "id": "158d3ff5",
   "metadata": {},
   "outputs": [],
   "source": [
    "import numpy as np\n",
    "import pandas as pd\n",
    "import random\n",
    "import matplotlib.pyplot as plt\n",
    "from sklearn.linear_model import LogisticRegression\n",
    "from sklearn.model_selection import train_test_split\n",
    "from sklearn import metrics \n",
    "\n",
    "import statsmodels.api as sm"
   ]
  },
  {
   "cell_type": "code",
   "execution_count": 2,
   "id": "433d34c5",
   "metadata": {},
   "outputs": [
    {
     "data": {
      "text/html": [
       "<div>\n",
       "<style scoped>\n",
       "    .dataframe tbody tr th:only-of-type {\n",
       "        vertical-align: middle;\n",
       "    }\n",
       "\n",
       "    .dataframe tbody tr th {\n",
       "        vertical-align: top;\n",
       "    }\n",
       "\n",
       "    .dataframe thead th {\n",
       "        text-align: right;\n",
       "    }\n",
       "</style>\n",
       "<table border=\"1\" class=\"dataframe\">\n",
       "  <thead>\n",
       "    <tr style=\"text-align: right;\">\n",
       "      <th></th>\n",
       "      <th>Unnamed: 0</th>\n",
       "      <th>def_flag</th>\n",
       "      <th>loan_amnt</th>\n",
       "      <th>int_rate</th>\n",
       "      <th>grade</th>\n",
       "      <th>emp_length_p</th>\n",
       "      <th>home_ownership</th>\n",
       "      <th>annual_inc</th>\n",
       "      <th>verification_status</th>\n",
       "      <th>purpose_p</th>\n",
       "      <th>...</th>\n",
       "      <th>num_actv_bc_tl</th>\n",
       "      <th>num_actv_rev_tl</th>\n",
       "      <th>num_bc_sats</th>\n",
       "      <th>open_acc</th>\n",
       "      <th>total_acc</th>\n",
       "      <th>total_rev_hi_lim</th>\n",
       "      <th>pub_rec</th>\n",
       "      <th>pub_rec_bankruptcies</th>\n",
       "      <th>addr_state</th>\n",
       "      <th>issue_d</th>\n",
       "    </tr>\n",
       "  </thead>\n",
       "  <tbody>\n",
       "    <tr>\n",
       "      <th>0</th>\n",
       "      <td>70734</td>\n",
       "      <td>False</td>\n",
       "      <td>19000</td>\n",
       "      <td>10.15</td>\n",
       "      <td>2</td>\n",
       "      <td>4.0</td>\n",
       "      <td>MORTGAGE</td>\n",
       "      <td>90000.0</td>\n",
       "      <td>Not Verified</td>\n",
       "      <td>debt_consolidation</td>\n",
       "      <td>...</td>\n",
       "      <td>4</td>\n",
       "      <td>6</td>\n",
       "      <td>5</td>\n",
       "      <td>14</td>\n",
       "      <td>45</td>\n",
       "      <td>41500</td>\n",
       "      <td>0</td>\n",
       "      <td>0</td>\n",
       "      <td>NY</td>\n",
       "      <td>Oct-2014</td>\n",
       "    </tr>\n",
       "    <tr>\n",
       "      <th>1</th>\n",
       "      <td>166156</td>\n",
       "      <td>False</td>\n",
       "      <td>31500</td>\n",
       "      <td>17.57</td>\n",
       "      <td>4</td>\n",
       "      <td>10.0</td>\n",
       "      <td>MORTGAGE</td>\n",
       "      <td>145000.0</td>\n",
       "      <td>Verified</td>\n",
       "      <td>debt_consolidation</td>\n",
       "      <td>...</td>\n",
       "      <td>4</td>\n",
       "      <td>6</td>\n",
       "      <td>6</td>\n",
       "      <td>11</td>\n",
       "      <td>25</td>\n",
       "      <td>80100</td>\n",
       "      <td>0</td>\n",
       "      <td>0</td>\n",
       "      <td>MD</td>\n",
       "      <td>May-2014</td>\n",
       "    </tr>\n",
       "    <tr>\n",
       "      <th>2</th>\n",
       "      <td>201744</td>\n",
       "      <td>False</td>\n",
       "      <td>11975</td>\n",
       "      <td>14.64</td>\n",
       "      <td>3</td>\n",
       "      <td>4.0</td>\n",
       "      <td>MORTGAGE</td>\n",
       "      <td>45000.0</td>\n",
       "      <td>Source Verified</td>\n",
       "      <td>debt_consolidation</td>\n",
       "      <td>...</td>\n",
       "      <td>1</td>\n",
       "      <td>4</td>\n",
       "      <td>1</td>\n",
       "      <td>7</td>\n",
       "      <td>34</td>\n",
       "      <td>11000</td>\n",
       "      <td>0</td>\n",
       "      <td>0</td>\n",
       "      <td>IL</td>\n",
       "      <td>Mar-2014</td>\n",
       "    </tr>\n",
       "    <tr>\n",
       "      <th>3</th>\n",
       "      <td>166242</td>\n",
       "      <td>False</td>\n",
       "      <td>9000</td>\n",
       "      <td>14.16</td>\n",
       "      <td>3</td>\n",
       "      <td>10.0</td>\n",
       "      <td>RENT</td>\n",
       "      <td>48000.0</td>\n",
       "      <td>Source Verified</td>\n",
       "      <td>other</td>\n",
       "      <td>...</td>\n",
       "      <td>3</td>\n",
       "      <td>6</td>\n",
       "      <td>3</td>\n",
       "      <td>9</td>\n",
       "      <td>16</td>\n",
       "      <td>35700</td>\n",
       "      <td>1</td>\n",
       "      <td>1</td>\n",
       "      <td>NY</td>\n",
       "      <td>May-2014</td>\n",
       "    </tr>\n",
       "    <tr>\n",
       "      <th>4</th>\n",
       "      <td>141351</td>\n",
       "      <td>False</td>\n",
       "      <td>6600</td>\n",
       "      <td>6.03</td>\n",
       "      <td>1</td>\n",
       "      <td>0.0</td>\n",
       "      <td>RENT</td>\n",
       "      <td>58000.0</td>\n",
       "      <td>Not Verified</td>\n",
       "      <td>credit_card</td>\n",
       "      <td>...</td>\n",
       "      <td>4</td>\n",
       "      <td>4</td>\n",
       "      <td>4</td>\n",
       "      <td>9</td>\n",
       "      <td>28</td>\n",
       "      <td>37200</td>\n",
       "      <td>0</td>\n",
       "      <td>0</td>\n",
       "      <td>TX</td>\n",
       "      <td>Jun-2014</td>\n",
       "    </tr>\n",
       "    <tr>\n",
       "      <th>...</th>\n",
       "      <td>...</td>\n",
       "      <td>...</td>\n",
       "      <td>...</td>\n",
       "      <td>...</td>\n",
       "      <td>...</td>\n",
       "      <td>...</td>\n",
       "      <td>...</td>\n",
       "      <td>...</td>\n",
       "      <td>...</td>\n",
       "      <td>...</td>\n",
       "      <td>...</td>\n",
       "      <td>...</td>\n",
       "      <td>...</td>\n",
       "      <td>...</td>\n",
       "      <td>...</td>\n",
       "      <td>...</td>\n",
       "      <td>...</td>\n",
       "      <td>...</td>\n",
       "      <td>...</td>\n",
       "      <td>...</td>\n",
       "      <td>...</td>\n",
       "    </tr>\n",
       "    <tr>\n",
       "      <th>157080</th>\n",
       "      <td>117769</td>\n",
       "      <td>False</td>\n",
       "      <td>6500</td>\n",
       "      <td>11.67</td>\n",
       "      <td>2</td>\n",
       "      <td>8.0</td>\n",
       "      <td>MORTGAGE</td>\n",
       "      <td>30000.0</td>\n",
       "      <td>Not Verified</td>\n",
       "      <td>debt_consolidation</td>\n",
       "      <td>...</td>\n",
       "      <td>4</td>\n",
       "      <td>9</td>\n",
       "      <td>4</td>\n",
       "      <td>12</td>\n",
       "      <td>17</td>\n",
       "      <td>13900</td>\n",
       "      <td>0</td>\n",
       "      <td>0</td>\n",
       "      <td>NC</td>\n",
       "      <td>Jul-2014</td>\n",
       "    </tr>\n",
       "    <tr>\n",
       "      <th>157081</th>\n",
       "      <td>136544</td>\n",
       "      <td>False</td>\n",
       "      <td>19200</td>\n",
       "      <td>16.99</td>\n",
       "      <td>4</td>\n",
       "      <td>10.0</td>\n",
       "      <td>MORTGAGE</td>\n",
       "      <td>250700.0</td>\n",
       "      <td>Source Verified</td>\n",
       "      <td>debt_consolidation</td>\n",
       "      <td>...</td>\n",
       "      <td>1</td>\n",
       "      <td>8</td>\n",
       "      <td>2</td>\n",
       "      <td>16</td>\n",
       "      <td>33</td>\n",
       "      <td>208500</td>\n",
       "      <td>0</td>\n",
       "      <td>0</td>\n",
       "      <td>KS</td>\n",
       "      <td>Jun-2014</td>\n",
       "    </tr>\n",
       "    <tr>\n",
       "      <th>157082</th>\n",
       "      <td>35225</td>\n",
       "      <td>False</td>\n",
       "      <td>6500</td>\n",
       "      <td>11.67</td>\n",
       "      <td>2</td>\n",
       "      <td>10.0</td>\n",
       "      <td>MORTGAGE</td>\n",
       "      <td>46000.0</td>\n",
       "      <td>Source Verified</td>\n",
       "      <td>credit_card</td>\n",
       "      <td>...</td>\n",
       "      <td>2</td>\n",
       "      <td>3</td>\n",
       "      <td>3</td>\n",
       "      <td>9</td>\n",
       "      <td>25</td>\n",
       "      <td>32800</td>\n",
       "      <td>0</td>\n",
       "      <td>0</td>\n",
       "      <td>TX</td>\n",
       "      <td>Oct-2014</td>\n",
       "    </tr>\n",
       "    <tr>\n",
       "      <th>157083</th>\n",
       "      <td>76486</td>\n",
       "      <td>False</td>\n",
       "      <td>10000</td>\n",
       "      <td>12.99</td>\n",
       "      <td>3</td>\n",
       "      <td>2.0</td>\n",
       "      <td>MORTGAGE</td>\n",
       "      <td>40000.0</td>\n",
       "      <td>Not Verified</td>\n",
       "      <td>credit_card</td>\n",
       "      <td>...</td>\n",
       "      <td>6</td>\n",
       "      <td>10</td>\n",
       "      <td>6</td>\n",
       "      <td>19</td>\n",
       "      <td>33</td>\n",
       "      <td>20400</td>\n",
       "      <td>0</td>\n",
       "      <td>0</td>\n",
       "      <td>IL</td>\n",
       "      <td>Sep-2014</td>\n",
       "    </tr>\n",
       "    <tr>\n",
       "      <th>157084</th>\n",
       "      <td>56473</td>\n",
       "      <td>False</td>\n",
       "      <td>10000</td>\n",
       "      <td>6.49</td>\n",
       "      <td>1</td>\n",
       "      <td>2.0</td>\n",
       "      <td>MORTGAGE</td>\n",
       "      <td>100000.0</td>\n",
       "      <td>Not Verified</td>\n",
       "      <td>credit_card</td>\n",
       "      <td>...</td>\n",
       "      <td>7</td>\n",
       "      <td>7</td>\n",
       "      <td>10</td>\n",
       "      <td>16</td>\n",
       "      <td>19</td>\n",
       "      <td>52400</td>\n",
       "      <td>0</td>\n",
       "      <td>0</td>\n",
       "      <td>NJ</td>\n",
       "      <td>Oct-2014</td>\n",
       "    </tr>\n",
       "  </tbody>\n",
       "</table>\n",
       "<p>157085 rows × 35 columns</p>\n",
       "</div>"
      ],
      "text/plain": [
       "        Unnamed: 0  def_flag  loan_amnt  int_rate  grade  emp_length_p  \\\n",
       "0            70734     False      19000     10.15      2           4.0   \n",
       "1           166156     False      31500     17.57      4          10.0   \n",
       "2           201744     False      11975     14.64      3           4.0   \n",
       "3           166242     False       9000     14.16      3          10.0   \n",
       "4           141351     False       6600      6.03      1           0.0   \n",
       "...            ...       ...        ...       ...    ...           ...   \n",
       "157080      117769     False       6500     11.67      2           8.0   \n",
       "157081      136544     False      19200     16.99      4          10.0   \n",
       "157082       35225     False       6500     11.67      2          10.0   \n",
       "157083       76486     False      10000     12.99      3           2.0   \n",
       "157084       56473     False      10000      6.49      1           2.0   \n",
       "\n",
       "       home_ownership  annual_inc verification_status           purpose_p  \\\n",
       "0            MORTGAGE     90000.0        Not Verified  debt_consolidation   \n",
       "1            MORTGAGE    145000.0            Verified  debt_consolidation   \n",
       "2            MORTGAGE     45000.0     Source Verified  debt_consolidation   \n",
       "3                RENT     48000.0     Source Verified               other   \n",
       "4                RENT     58000.0        Not Verified         credit_card   \n",
       "...               ...         ...                 ...                 ...   \n",
       "157080       MORTGAGE     30000.0        Not Verified  debt_consolidation   \n",
       "157081       MORTGAGE    250700.0     Source Verified  debt_consolidation   \n",
       "157082       MORTGAGE     46000.0     Source Verified         credit_card   \n",
       "157083       MORTGAGE     40000.0        Not Verified         credit_card   \n",
       "157084       MORTGAGE    100000.0        Not Verified         credit_card   \n",
       "\n",
       "        ...  num_actv_bc_tl  num_actv_rev_tl  num_bc_sats  open_acc  \\\n",
       "0       ...               4                6            5        14   \n",
       "1       ...               4                6            6        11   \n",
       "2       ...               1                4            1         7   \n",
       "3       ...               3                6            3         9   \n",
       "4       ...               4                4            4         9   \n",
       "...     ...             ...              ...          ...       ...   \n",
       "157080  ...               4                9            4        12   \n",
       "157081  ...               1                8            2        16   \n",
       "157082  ...               2                3            3         9   \n",
       "157083  ...               6               10            6        19   \n",
       "157084  ...               7                7           10        16   \n",
       "\n",
       "        total_acc  total_rev_hi_lim  pub_rec  pub_rec_bankruptcies addr_state  \\\n",
       "0              45             41500        0                     0         NY   \n",
       "1              25             80100        0                     0         MD   \n",
       "2              34             11000        0                     0         IL   \n",
       "3              16             35700        1                     1         NY   \n",
       "4              28             37200        0                     0         TX   \n",
       "...           ...               ...      ...                   ...        ...   \n",
       "157080         17             13900        0                     0         NC   \n",
       "157081         33            208500        0                     0         KS   \n",
       "157082         25             32800        0                     0         TX   \n",
       "157083         33             20400        0                     0         IL   \n",
       "157084         19             52400        0                     0         NJ   \n",
       "\n",
       "         issue_d  \n",
       "0       Oct-2014  \n",
       "1       May-2014  \n",
       "2       Mar-2014  \n",
       "3       May-2014  \n",
       "4       Jun-2014  \n",
       "...          ...  \n",
       "157080  Jul-2014  \n",
       "157081  Jun-2014  \n",
       "157082  Oct-2014  \n",
       "157083  Sep-2014  \n",
       "157084  Oct-2014  \n",
       "\n",
       "[157085 rows x 35 columns]"
      ]
     },
     "execution_count": 2,
     "metadata": {},
     "output_type": "execute_result"
    }
   ],
   "source": [
    "df = pd.read_csv(\"LCData.csv\")\n",
    "df"
   ]
  },
  {
   "cell_type": "code",
   "execution_count": 3,
   "id": "5af8e64b",
   "metadata": {},
   "outputs": [],
   "source": [
    "# df['addr_state'].value_counts()"
   ]
  },
  {
   "cell_type": "code",
   "execution_count": 4,
   "id": "4b4adeba",
   "metadata": {},
   "outputs": [
    {
     "data": {
      "text/plain": [
       "10.0    53068\n",
       "2.0     13613\n",
       "3.0     12168\n",
       "0.0     11942\n",
       "1.0      9802\n",
       "4.0      9066\n",
       "7.0      8727\n",
       "5.0      8660\n",
       "6.0      7898\n",
       "8.0      7804\n",
       "9.0      6289\n",
       "Name: emp_length_p, dtype: int64"
      ]
     },
     "execution_count": 4,
     "metadata": {},
     "output_type": "execute_result"
    }
   ],
   "source": [
    "df[\"emp_length_p\"].value_counts()"
   ]
  },
  {
   "cell_type": "code",
   "execution_count": 5,
   "id": "0c43a287",
   "metadata": {},
   "outputs": [
    {
     "data": {
      "text/plain": [
       "(array([ 4184., 12915., 21856., 27911., 28176., 23987., 18586., 11791.,\n",
       "         5866.,  1813.]),\n",
       " array([ 0.   ,  3.999,  7.998, 11.997, 15.996, 19.995, 23.994, 27.993,\n",
       "        31.992, 35.991, 39.99 ]),\n",
       " <BarContainer object of 10 artists>)"
      ]
     },
     "execution_count": 5,
     "metadata": {},
     "output_type": "execute_result"
    },
    {
     "data": {
      "image/png": "[encoded data removed]",
      "text/plain": [
       "<Figure size 432x288 with 1 Axes>"
      ]
     },
     "metadata": {
      "needs_background": "light"
     },
     "output_type": "display_data"
    }
   ],
   "source": [
    "df['avg_cur_bal'].isnull().values.any()\n",
    "df['grade'].value_counts()\n",
    "plt.hist(df['dti'])"
   ]
  },
  {
   "cell_type": "code",
   "execution_count": 6,
   "id": "8c9d1c77",
   "metadata": {},
   "outputs": [],
   "source": [
    "df2 = df[['loan_amnt', 'emp_length_p', 'home_ownership', 'annual_inc', 'purpose_p', 'avg_cur_bal', 'def_flag', 'grade', 'dti']].copy()"
   ]
  },
  {
   "cell_type": "code",
   "execution_count": 7,
   "id": "64b43b54",
   "metadata": {},
   "outputs": [
    {
     "data": {
      "text/html": [
       "<div>\n",
       "<style scoped>\n",
       "    .dataframe tbody tr th:only-of-type {\n",
       "        vertical-align: middle;\n",
       "    }\n",
       "\n",
       "    .dataframe tbody tr th {\n",
       "        vertical-align: top;\n",
       "    }\n",
       "\n",
       "    .dataframe thead th {\n",
       "        text-align: right;\n",
       "    }\n",
       "</style>\n",
       "<table border=\"1\" class=\"dataframe\">\n",
       "  <thead>\n",
       "    <tr style=\"text-align: right;\">\n",
       "      <th></th>\n",
       "      <th>loan_amnt</th>\n",
       "      <th>emp_length_p</th>\n",
       "      <th>home_ownership</th>\n",
       "      <th>annual_inc</th>\n",
       "      <th>purpose_p</th>\n",
       "      <th>avg_cur_bal</th>\n",
       "      <th>def_flag</th>\n",
       "      <th>grade</th>\n",
       "      <th>dti</th>\n",
       "    </tr>\n",
       "  </thead>\n",
       "  <tbody>\n",
       "    <tr>\n",
       "      <th>0</th>\n",
       "      <td>19000</td>\n",
       "      <td>4.0</td>\n",
       "      <td>MORTGAGE</td>\n",
       "      <td>90000.0</td>\n",
       "      <td>debt_consolidation</td>\n",
       "      <td>10627.0</td>\n",
       "      <td>False</td>\n",
       "      <td>2</td>\n",
       "      <td>14.69</td>\n",
       "    </tr>\n",
       "    <tr>\n",
       "      <th>1</th>\n",
       "      <td>31500</td>\n",
       "      <td>10.0</td>\n",
       "      <td>MORTGAGE</td>\n",
       "      <td>145000.0</td>\n",
       "      <td>debt_consolidation</td>\n",
       "      <td>35563.0</td>\n",
       "      <td>False</td>\n",
       "      <td>4</td>\n",
       "      <td>6.47</td>\n",
       "    </tr>\n",
       "    <tr>\n",
       "      <th>2</th>\n",
       "      <td>11975</td>\n",
       "      <td>4.0</td>\n",
       "      <td>MORTGAGE</td>\n",
       "      <td>45000.0</td>\n",
       "      <td>debt_consolidation</td>\n",
       "      <td>26828.0</td>\n",
       "      <td>False</td>\n",
       "      <td>3</td>\n",
       "      <td>15.55</td>\n",
       "    </tr>\n",
       "    <tr>\n",
       "      <th>3</th>\n",
       "      <td>9000</td>\n",
       "      <td>10.0</td>\n",
       "      <td>RENT</td>\n",
       "      <td>48000.0</td>\n",
       "      <td>other</td>\n",
       "      <td>3197.0</td>\n",
       "      <td>False</td>\n",
       "      <td>3</td>\n",
       "      <td>27.31</td>\n",
       "    </tr>\n",
       "    <tr>\n",
       "      <th>4</th>\n",
       "      <td>6600</td>\n",
       "      <td>0.0</td>\n",
       "      <td>RENT</td>\n",
       "      <td>58000.0</td>\n",
       "      <td>credit_card</td>\n",
       "      <td>13183.0</td>\n",
       "      <td>False</td>\n",
       "      <td>1</td>\n",
       "      <td>21.61</td>\n",
       "    </tr>\n",
       "    <tr>\n",
       "      <th>...</th>\n",
       "      <td>...</td>\n",
       "      <td>...</td>\n",
       "      <td>...</td>\n",
       "      <td>...</td>\n",
       "      <td>...</td>\n",
       "      <td>...</td>\n",
       "      <td>...</td>\n",
       "      <td>...</td>\n",
       "      <td>...</td>\n",
       "    </tr>\n",
       "    <tr>\n",
       "      <th>157080</th>\n",
       "      <td>6500</td>\n",
       "      <td>8.0</td>\n",
       "      <td>MORTGAGE</td>\n",
       "      <td>30000.0</td>\n",
       "      <td>debt_consolidation</td>\n",
       "      <td>11059.0</td>\n",
       "      <td>False</td>\n",
       "      <td>2</td>\n",
       "      <td>13.88</td>\n",
       "    </tr>\n",
       "    <tr>\n",
       "      <th>157081</th>\n",
       "      <td>19200</td>\n",
       "      <td>10.0</td>\n",
       "      <td>MORTGAGE</td>\n",
       "      <td>250700.0</td>\n",
       "      <td>debt_consolidation</td>\n",
       "      <td>40228.0</td>\n",
       "      <td>False</td>\n",
       "      <td>4</td>\n",
       "      <td>14.70</td>\n",
       "    </tr>\n",
       "    <tr>\n",
       "      <th>157082</th>\n",
       "      <td>6500</td>\n",
       "      <td>10.0</td>\n",
       "      <td>MORTGAGE</td>\n",
       "      <td>46000.0</td>\n",
       "      <td>credit_card</td>\n",
       "      <td>27473.0</td>\n",
       "      <td>False</td>\n",
       "      <td>2</td>\n",
       "      <td>27.55</td>\n",
       "    </tr>\n",
       "    <tr>\n",
       "      <th>157083</th>\n",
       "      <td>10000</td>\n",
       "      <td>2.0</td>\n",
       "      <td>MORTGAGE</td>\n",
       "      <td>40000.0</td>\n",
       "      <td>credit_card</td>\n",
       "      <td>7310.0</td>\n",
       "      <td>False</td>\n",
       "      <td>3</td>\n",
       "      <td>23.16</td>\n",
       "    </tr>\n",
       "    <tr>\n",
       "      <th>157084</th>\n",
       "      <td>10000</td>\n",
       "      <td>2.0</td>\n",
       "      <td>MORTGAGE</td>\n",
       "      <td>100000.0</td>\n",
       "      <td>credit_card</td>\n",
       "      <td>18275.0</td>\n",
       "      <td>False</td>\n",
       "      <td>1</td>\n",
       "      <td>15.23</td>\n",
       "    </tr>\n",
       "  </tbody>\n",
       "</table>\n",
       "<p>157085 rows × 9 columns</p>\n",
       "</div>"
      ],
      "text/plain": [
       "        loan_amnt  emp_length_p home_ownership  annual_inc  \\\n",
       "0           19000           4.0       MORTGAGE     90000.0   \n",
       "1           31500          10.0       MORTGAGE    145000.0   \n",
       "2           11975           4.0       MORTGAGE     45000.0   \n",
       "3            9000          10.0           RENT     48000.0   \n",
       "4            6600           0.0           RENT     58000.0   \n",
       "...           ...           ...            ...         ...   \n",
       "157080       6500           8.0       MORTGAGE     30000.0   \n",
       "157081      19200          10.0       MORTGAGE    250700.0   \n",
       "157082       6500          10.0       MORTGAGE     46000.0   \n",
       "157083      10000           2.0       MORTGAGE     40000.0   \n",
       "157084      10000           2.0       MORTGAGE    100000.0   \n",
       "\n",
       "                 purpose_p  avg_cur_bal  def_flag  grade    dti  \n",
       "0       debt_consolidation      10627.0     False      2  14.69  \n",
       "1       debt_consolidation      35563.0     False      4   6.47  \n",
       "2       debt_consolidation      26828.0     False      3  15.55  \n",
       "3                    other       3197.0     False      3  27.31  \n",
       "4              credit_card      13183.0     False      1  21.61  \n",
       "...                    ...          ...       ...    ...    ...  \n",
       "157080  debt_consolidation      11059.0     False      2  13.88  \n",
       "157081  debt_consolidation      40228.0     False      4  14.70  \n",
       "157082         credit_card      27473.0     False      2  27.55  \n",
       "157083         credit_card       7310.0     False      3  23.16  \n",
       "157084         credit_card      18275.0     False      1  15.23  \n",
       "\n",
       "[157085 rows x 9 columns]"
      ]
     },
     "execution_count": 7,
     "metadata": {},
     "output_type": "execute_result"
    }
   ],
   "source": [
    "df2"
   ]
  },
  {
   "cell_type": "code",
   "execution_count": 8,
   "id": "110576a3",
   "metadata": {},
   "outputs": [
    {
     "data": {
      "text/plain": [
       "(array([10290., 23143., 29797., 22492., 19857., 19480.,  8558.,  9932.,\n",
       "         4984.,  8552.]),\n",
       " array([ 1000.,  4400.,  7800., 11200., 14600., 18000., 21400., 24800.,\n",
       "        28200., 31600., 35000.]),\n",
       " <BarContainer object of 10 artists>)"
      ]
     },
     "execution_count": 8,
     "metadata": {},
     "output_type": "execute_result"
    },
    {
     "data": {
      "image/png": "[encoded data removed]",
      "text/plain": [
       "<Figure size 432x288 with 1 Axes>"
      ]
     },
     "metadata": {
      "needs_background": "light"
     },
     "output_type": "display_data"
    }
   ],
   "source": [
    "plt.hist(df2['loan_amnt'])"
   ]
  },
  {
   "cell_type": "code",
   "execution_count": 9,
   "id": "8b6768c3",
   "metadata": {},
   "outputs": [],
   "source": [
    "df2['log_loan_amnt'] = np.log(df2['loan_amnt'])\n",
    "# plt.hist(df2['log_loan_amnt'])"
   ]
  },
  {
   "cell_type": "code",
   "execution_count": 10,
   "id": "174cb21d",
   "metadata": {},
   "outputs": [
    {
     "data": {
      "text/plain": [
       "(array([1.52168e+05, 4.40500e+03, 3.99000e+02, 6.60000e+01, 1.90000e+01,\n",
       "        1.40000e+01, 5.00000e+00, 2.00000e+00, 1.00000e+00, 2.00000e+00]),\n",
       " array([     0. ,  49748.4,  99496.8, 149245.2, 198993.6, 248742. ,\n",
       "        298490.4, 348238.8, 397987.2, 447735.6, 497484. ]),\n",
       " <BarContainer object of 10 artists>)"
      ]
     },
     "execution_count": 10,
     "metadata": {},
     "output_type": "execute_result"
    },
    {
     "data": {
      "image/png": "[encoded data removed]",
      "text/plain": [
       "<Figure size 432x288 with 1 Axes>"
      ]
     },
     "metadata": {
      "needs_background": "light"
     },
     "output_type": "display_data"
    }
   ],
   "source": [
    "plt.hist(df2['avg_cur_bal'])"
   ]
  },
  {
   "cell_type": "code",
   "execution_count": 11,
   "id": "bbc00d8a",
   "metadata": {},
   "outputs": [
    {
     "data": {
      "text/plain": [
       "(array([2.7000e+01, 1.0000e+01, 3.4000e+01, 1.5600e+02, 2.9980e+03,\n",
       "        2.8544e+04, 5.6192e+04, 5.7453e+04, 1.1493e+04, 1.7400e+02]),\n",
       " array([ 0.        ,  1.31173187,  2.62346373,  3.9351956 ,  5.24692747,\n",
       "         6.55865934,  7.8703912 ,  9.18212307, 10.49385494, 11.80558681,\n",
       "        13.11731867]),\n",
       " <BarContainer object of 10 artists>)"
      ]
     },
     "execution_count": 11,
     "metadata": {},
     "output_type": "execute_result"
    },
    {
     "data": {
      "image/png": "[encoded data removed]",
      "text/plain": [
       "<Figure size 432x288 with 1 Axes>"
      ]
     },
     "metadata": {
      "needs_background": "light"
     },
     "output_type": "display_data"
    }
   ],
   "source": [
    "df2['log_avg_cur_bal'] = np.log(df2['avg_cur_bal'], out=np.zeros_like(df2['avg_cur_bal']), where=(df2['avg_cur_bal']!=0))\n",
    "plt.hist(df2['log_avg_cur_bal'])"
   ]
  },
  {
   "cell_type": "code",
   "execution_count": 12,
   "id": "c6b536f8",
   "metadata": {},
   "outputs": [
    {
     "data": {
      "text/plain": [
       "(array([1.57037e+05, 4.20000e+01, 4.00000e+00, 0.00000e+00, 0.00000e+00,\n",
       "        0.00000e+00, 1.00000e+00, 0.00000e+00, 0.00000e+00, 1.00000e+00]),\n",
       " array([3.0000e+03, 7.5270e+05, 1.5024e+06, 2.2521e+06, 3.0018e+06,\n",
       "        3.7515e+06, 4.5012e+06, 5.2509e+06, 6.0006e+06, 6.7503e+06,\n",
       "        7.5000e+06]),\n",
       " <BarContainer object of 10 artists>)"
      ]
     },
     "execution_count": 12,
     "metadata": {},
     "output_type": "execute_result"
    },
    {
     "data": {
      "image/png": "[encoded data removed]",
      "text/plain": [
       "<Figure size 432x288 with 1 Axes>"
      ]
     },
     "metadata": {
      "needs_background": "light"
     },
     "output_type": "display_data"
    }
   ],
   "source": [
    "plt.hist(df2['annual_inc'])"
   ]
  },
  {
   "cell_type": "code",
   "execution_count": 13,
   "id": "65adaa6c",
   "metadata": {},
   "outputs": [
    {
     "data": {
      "text/plain": [
       "(array([5.0000e+00, 4.6700e+02, 1.1467e+04, 7.4636e+04, 6.1600e+04,\n",
       "        8.2880e+03, 5.6700e+02, 4.9000e+01, 4.0000e+00, 2.0000e+00]),\n",
       " array([ 8.00636757,  8.78877217,  9.57117677, 10.35358137, 11.13598597,\n",
       "        11.91839057, 12.70079517, 13.48319978, 14.26560438, 15.04800898,\n",
       "        15.83041358]),\n",
       " <BarContainer object of 10 artists>)"
      ]
     },
     "execution_count": 13,
     "metadata": {},
     "output_type": "execute_result"
    },
    {
     "data": {
      "image/png": "[encoded data removed]",
      "text/plain": [
       "<Figure size 432x288 with 1 Axes>"
      ]
     },
     "metadata": {
      "needs_background": "light"
     },
     "output_type": "display_data"
    }
   ],
   "source": [
    "df2['log_annual_inc'] = np.log(df2['annual_inc'], out=np.zeros_like(df2['annual_inc']), where=(df2['annual_inc']!=0))\n",
    "plt.hist(df2['log_annual_inc'])"
   ]
  },
  {
   "cell_type": "code",
   "execution_count": 14,
   "id": "598a2cde",
   "metadata": {},
   "outputs": [],
   "source": [
    "# df2['chargeoff_within_12_mths'].value_counts()\n",
    "# df2['chargeoff'] = df2['chargeoff_within_12_mths'].map({0:0, 1:1, 2:1, 3:1, 4:1, 5:1, 6:1, 7:1})"
   ]
  },
  {
   "cell_type": "code",
   "execution_count": 15,
   "id": "de50dd3a",
   "metadata": {},
   "outputs": [],
   "source": [
    "# plt.hist(df2['emp_length_p'])"
   ]
  },
  {
   "cell_type": "code",
   "execution_count": 16,
   "id": "eaea317f",
   "metadata": {},
   "outputs": [],
   "source": [
    "df2['mortgage'] = df2['home_ownership'].map({\"MORTGAGE\": 1, \"RENT\":0, \"OWN\":0, \"OTHER\":0})"
   ]
  },
  {
   "cell_type": "code",
   "execution_count": 17,
   "id": "ec95c60b",
   "metadata": {},
   "outputs": [],
   "source": [
    "df2['rent'] = df2['home_ownership'].map({\"MORTGAGE\": 0, \"RENT\":1, \"OWN\":0, \"OTHER\":0})"
   ]
  },
  {
   "cell_type": "code",
   "execution_count": 18,
   "id": "6388a310",
   "metadata": {},
   "outputs": [],
   "source": [
    "df2['own'] = df2['home_ownership'].map({\"MORTGAGE\": 0, \"RENT\":0, \"OWN\":1, \"OTHER\":0})"
   ]
  },
  {
   "cell_type": "code",
   "execution_count": 19,
   "id": "0e85b37d",
   "metadata": {},
   "outputs": [
    {
     "data": {
      "text/plain": [
       "debt_consolidation    95447\n",
       "credit_card           37066\n",
       "home_improvement       8642\n",
       "other                  7471\n",
       "major_purchase         2555\n",
       "medical                1568\n",
       "small_business         1493\n",
       "car                    1211\n",
       "moving                  850\n",
       "vacation                782\n",
       "Name: purpose_p, dtype: int64"
      ]
     },
     "execution_count": 19,
     "metadata": {},
     "output_type": "execute_result"
    }
   ],
   "source": [
    "df2['purpose_p'].value_counts()"
   ]
  },
  {
   "cell_type": "code",
   "execution_count": 20,
   "id": "2be5d30a",
   "metadata": {},
   "outputs": [],
   "source": [
    "# df_purpose = pd.get_dummies(df2[\"purpose_p\"])\n",
    "# df2 = pd.concat([df2, df_purpose], axis=1)"
   ]
  },
  {
   "cell_type": "code",
   "execution_count": 21,
   "id": "0069df4d",
   "metadata": {},
   "outputs": [],
   "source": [
    "df2['debt_consolidation'] = df2['purpose_p'].map({'debt_consolidation':1,\n",
    "                                                 'credit_card':0,\n",
    "                                                 'home_improvement':0,\n",
    "                                                 'other':0,\n",
    "                                                 'major_purchase':0,\n",
    "                                                 'medical':0,\n",
    "                                                 'small_business':0,\n",
    "                                                 'car':0,\n",
    "                                                 'moving':0,\n",
    "                                                 'vacation':0})"
   ]
  },
  {
   "cell_type": "code",
   "execution_count": 22,
   "id": "9ee1df43",
   "metadata": {},
   "outputs": [],
   "source": [
    "df2['credit_card'] = df2['purpose_p'].map({'debt_consolidation':0,\n",
    "                                                 'credit_card':1,\n",
    "                                                 'home_improvement':0,\n",
    "                                                 'other':0,\n",
    "                                                 'major_purchase':0,\n",
    "                                                 'medical':0,\n",
    "                                                 'small_business':0,\n",
    "                                                 'car':0,\n",
    "                                                 'moving':0,\n",
    "                                                 'vacation':0})"
   ]
  },
  {
   "cell_type": "code",
   "execution_count": 23,
   "id": "eaa15183",
   "metadata": {},
   "outputs": [],
   "source": [
    "df2['def_flag'] = df2['def_flag'].map({False:0, True:1})"
   ]
  },
  {
   "cell_type": "code",
   "execution_count": 24,
   "id": "0b11147b",
   "metadata": {},
   "outputs": [
    {
     "data": {
      "text/html": [
       "<div>\n",
       "<style scoped>\n",
       "    .dataframe tbody tr th:only-of-type {\n",
       "        vertical-align: middle;\n",
       "    }\n",
       "\n",
       "    .dataframe tbody tr th {\n",
       "        vertical-align: top;\n",
       "    }\n",
       "\n",
       "    .dataframe thead th {\n",
       "        text-align: right;\n",
       "    }\n",
       "</style>\n",
       "<table border=\"1\" class=\"dataframe\">\n",
       "  <thead>\n",
       "    <tr style=\"text-align: right;\">\n",
       "      <th></th>\n",
       "      <th>loan_amnt</th>\n",
       "      <th>emp_length_p</th>\n",
       "      <th>home_ownership</th>\n",
       "      <th>annual_inc</th>\n",
       "      <th>purpose_p</th>\n",
       "      <th>avg_cur_bal</th>\n",
       "      <th>def_flag</th>\n",
       "      <th>grade</th>\n",
       "      <th>dti</th>\n",
       "      <th>log_loan_amnt</th>\n",
       "      <th>log_avg_cur_bal</th>\n",
       "      <th>log_annual_inc</th>\n",
       "      <th>mortgage</th>\n",
       "      <th>rent</th>\n",
       "      <th>own</th>\n",
       "      <th>debt_consolidation</th>\n",
       "      <th>credit_card</th>\n",
       "    </tr>\n",
       "  </thead>\n",
       "  <tbody>\n",
       "    <tr>\n",
       "      <th>0</th>\n",
       "      <td>19000</td>\n",
       "      <td>4.0</td>\n",
       "      <td>MORTGAGE</td>\n",
       "      <td>90000.0</td>\n",
       "      <td>debt_consolidation</td>\n",
       "      <td>10627.0</td>\n",
       "      <td>0</td>\n",
       "      <td>2</td>\n",
       "      <td>14.69</td>\n",
       "      <td>9.852194</td>\n",
       "      <td>9.271153</td>\n",
       "      <td>11.407565</td>\n",
       "      <td>1</td>\n",
       "      <td>0</td>\n",
       "      <td>0</td>\n",
       "      <td>1</td>\n",
       "      <td>0</td>\n",
       "    </tr>\n",
       "    <tr>\n",
       "      <th>1</th>\n",
       "      <td>31500</td>\n",
       "      <td>10.0</td>\n",
       "      <td>MORTGAGE</td>\n",
       "      <td>145000.0</td>\n",
       "      <td>debt_consolidation</td>\n",
       "      <td>35563.0</td>\n",
       "      <td>0</td>\n",
       "      <td>4</td>\n",
       "      <td>6.47</td>\n",
       "      <td>10.357743</td>\n",
       "      <td>10.479061</td>\n",
       "      <td>11.884489</td>\n",
       "      <td>1</td>\n",
       "      <td>0</td>\n",
       "      <td>0</td>\n",
       "      <td>1</td>\n",
       "      <td>0</td>\n",
       "    </tr>\n",
       "    <tr>\n",
       "      <th>2</th>\n",
       "      <td>11975</td>\n",
       "      <td>4.0</td>\n",
       "      <td>MORTGAGE</td>\n",
       "      <td>45000.0</td>\n",
       "      <td>debt_consolidation</td>\n",
       "      <td>26828.0</td>\n",
       "      <td>0</td>\n",
       "      <td>3</td>\n",
       "      <td>15.55</td>\n",
       "      <td>9.390576</td>\n",
       "      <td>10.197201</td>\n",
       "      <td>10.714418</td>\n",
       "      <td>1</td>\n",
       "      <td>0</td>\n",
       "      <td>0</td>\n",
       "      <td>1</td>\n",
       "      <td>0</td>\n",
       "    </tr>\n",
       "    <tr>\n",
       "      <th>3</th>\n",
       "      <td>9000</td>\n",
       "      <td>10.0</td>\n",
       "      <td>RENT</td>\n",
       "      <td>48000.0</td>\n",
       "      <td>other</td>\n",
       "      <td>3197.0</td>\n",
       "      <td>0</td>\n",
       "      <td>3</td>\n",
       "      <td>27.31</td>\n",
       "      <td>9.104980</td>\n",
       "      <td>8.069968</td>\n",
       "      <td>10.778956</td>\n",
       "      <td>0</td>\n",
       "      <td>1</td>\n",
       "      <td>0</td>\n",
       "      <td>0</td>\n",
       "      <td>0</td>\n",
       "    </tr>\n",
       "    <tr>\n",
       "      <th>4</th>\n",
       "      <td>6600</td>\n",
       "      <td>0.0</td>\n",
       "      <td>RENT</td>\n",
       "      <td>58000.0</td>\n",
       "      <td>credit_card</td>\n",
       "      <td>13183.0</td>\n",
       "      <td>0</td>\n",
       "      <td>1</td>\n",
       "      <td>21.61</td>\n",
       "      <td>8.794825</td>\n",
       "      <td>9.486683</td>\n",
       "      <td>10.968198</td>\n",
       "      <td>0</td>\n",
       "      <td>1</td>\n",
       "      <td>0</td>\n",
       "      <td>0</td>\n",
       "      <td>1</td>\n",
       "    </tr>\n",
       "  </tbody>\n",
       "</table>\n",
       "</div>"
      ],
      "text/plain": [
       "   loan_amnt  emp_length_p home_ownership  annual_inc           purpose_p  \\\n",
       "0      19000           4.0       MORTGAGE     90000.0  debt_consolidation   \n",
       "1      31500          10.0       MORTGAGE    145000.0  debt_consolidation   \n",
       "2      11975           4.0       MORTGAGE     45000.0  debt_consolidation   \n",
       "3       9000          10.0           RENT     48000.0               other   \n",
       "4       6600           0.0           RENT     58000.0         credit_card   \n",
       "\n",
       "   avg_cur_bal  def_flag  grade    dti  log_loan_amnt  log_avg_cur_bal  \\\n",
       "0      10627.0         0      2  14.69       9.852194         9.271153   \n",
       "1      35563.0         0      4   6.47      10.357743        10.479061   \n",
       "2      26828.0         0      3  15.55       9.390576        10.197201   \n",
       "3       3197.0         0      3  27.31       9.104980         8.069968   \n",
       "4      13183.0         0      1  21.61       8.794825         9.486683   \n",
       "\n",
       "   log_annual_inc  mortgage  rent  own  debt_consolidation  credit_card  \n",
       "0       11.407565         1     0    0                   1            0  \n",
       "1       11.884489         1     0    0                   1            0  \n",
       "2       10.714418         1     0    0                   1            0  \n",
       "3       10.778956         0     1    0                   0            0  \n",
       "4       10.968198         0     1    0                   0            1  "
      ]
     },
     "execution_count": 24,
     "metadata": {},
     "output_type": "execute_result"
    }
   ],
   "source": [
    "df2.head()"
   ]
  },
  {
   "cell_type": "code",
   "execution_count": 25,
   "id": "ea72ce6b",
   "metadata": {},
   "outputs": [],
   "source": [
    "df2 = df2.drop(['loan_amnt', 'home_ownership', 'annual_inc', 'purpose_p', 'avg_cur_bal'], axis=1)\n"
   ]
  },
  {
   "cell_type": "code",
   "execution_count": 26,
   "id": "13505c8a",
   "metadata": {
    "scrolled": true
   },
   "outputs": [],
   "source": [
    "df2 = df2[['def_flag', 'emp_length_p', 'log_loan_amnt', 'log_avg_cur_bal',\n",
    "       'log_annual_inc', 'grade', 'dti']]\n",
    "# df2"
   ]
  },
  {
   "cell_type": "code",
   "execution_count": 27,
   "id": "f882215d",
   "metadata": {},
   "outputs": [],
   "source": [
    "df2['employed'] = df2['emp_length_p'].map({np.nan:0, 0.0:1, 1.0:1, 2.0:1, 3.0:1, 4.0:1, 5.0:1, 6.0:1, 7.0:1, 8.0:1, 9.0:1, 10.0:1})\n",
    "#df_emp = pd.get_dummies(df2[\"emp_length_p\"])\n",
    "#df2 = pd.concat([df2, df_emp], axis=1)\n",
    "df_grade = pd.get_dummies(df2['grade'])\n",
    "df2 = pd.concat([df2, df_grade], axis=1)\n",
    "#df_state = pd.get_dummies(df2['addr_state'])\n",
    "#df2 = pd.concat([df2, df_state], axis=1)"
   ]
  },
  {
   "cell_type": "code",
   "execution_count": 28,
   "id": "f57a245c",
   "metadata": {},
   "outputs": [
    {
     "data": {
      "text/html": [
       "<div>\n",
       "<style scoped>\n",
       "    .dataframe tbody tr th:only-of-type {\n",
       "        vertical-align: middle;\n",
       "    }\n",
       "\n",
       "    .dataframe tbody tr th {\n",
       "        vertical-align: top;\n",
       "    }\n",
       "\n",
       "    .dataframe thead th {\n",
       "        text-align: right;\n",
       "    }\n",
       "</style>\n",
       "<table border=\"1\" class=\"dataframe\">\n",
       "  <thead>\n",
       "    <tr style=\"text-align: right;\">\n",
       "      <th></th>\n",
       "      <th>def_flag</th>\n",
       "      <th>log_loan_amnt</th>\n",
       "      <th>log_avg_cur_bal</th>\n",
       "      <th>log_annual_inc</th>\n",
       "      <th>dti</th>\n",
       "      <th>employed</th>\n",
       "      <th>2</th>\n",
       "      <th>3</th>\n",
       "      <th>4</th>\n",
       "      <th>5</th>\n",
       "      <th>6</th>\n",
       "      <th>7</th>\n",
       "    </tr>\n",
       "  </thead>\n",
       "  <tbody>\n",
       "    <tr>\n",
       "      <th>0</th>\n",
       "      <td>0</td>\n",
       "      <td>9.852194</td>\n",
       "      <td>9.271153</td>\n",
       "      <td>11.407565</td>\n",
       "      <td>14.69</td>\n",
       "      <td>1</td>\n",
       "      <td>1</td>\n",
       "      <td>0</td>\n",
       "      <td>0</td>\n",
       "      <td>0</td>\n",
       "      <td>0</td>\n",
       "      <td>0</td>\n",
       "    </tr>\n",
       "    <tr>\n",
       "      <th>1</th>\n",
       "      <td>0</td>\n",
       "      <td>10.357743</td>\n",
       "      <td>10.479061</td>\n",
       "      <td>11.884489</td>\n",
       "      <td>6.47</td>\n",
       "      <td>1</td>\n",
       "      <td>0</td>\n",
       "      <td>0</td>\n",
       "      <td>1</td>\n",
       "      <td>0</td>\n",
       "      <td>0</td>\n",
       "      <td>0</td>\n",
       "    </tr>\n",
       "    <tr>\n",
       "      <th>2</th>\n",
       "      <td>0</td>\n",
       "      <td>9.390576</td>\n",
       "      <td>10.197201</td>\n",
       "      <td>10.714418</td>\n",
       "      <td>15.55</td>\n",
       "      <td>1</td>\n",
       "      <td>0</td>\n",
       "      <td>1</td>\n",
       "      <td>0</td>\n",
       "      <td>0</td>\n",
       "      <td>0</td>\n",
       "      <td>0</td>\n",
       "    </tr>\n",
       "    <tr>\n",
       "      <th>3</th>\n",
       "      <td>0</td>\n",
       "      <td>9.104980</td>\n",
       "      <td>8.069968</td>\n",
       "      <td>10.778956</td>\n",
       "      <td>27.31</td>\n",
       "      <td>1</td>\n",
       "      <td>0</td>\n",
       "      <td>1</td>\n",
       "      <td>0</td>\n",
       "      <td>0</td>\n",
       "      <td>0</td>\n",
       "      <td>0</td>\n",
       "    </tr>\n",
       "    <tr>\n",
       "      <th>4</th>\n",
       "      <td>0</td>\n",
       "      <td>8.794825</td>\n",
       "      <td>9.486683</td>\n",
       "      <td>10.968198</td>\n",
       "      <td>21.61</td>\n",
       "      <td>1</td>\n",
       "      <td>0</td>\n",
       "      <td>0</td>\n",
       "      <td>0</td>\n",
       "      <td>0</td>\n",
       "      <td>0</td>\n",
       "      <td>0</td>\n",
       "    </tr>\n",
       "    <tr>\n",
       "      <th>...</th>\n",
       "      <td>...</td>\n",
       "      <td>...</td>\n",
       "      <td>...</td>\n",
       "      <td>...</td>\n",
       "      <td>...</td>\n",
       "      <td>...</td>\n",
       "      <td>...</td>\n",
       "      <td>...</td>\n",
       "      <td>...</td>\n",
       "      <td>...</td>\n",
       "      <td>...</td>\n",
       "      <td>...</td>\n",
       "    </tr>\n",
       "    <tr>\n",
       "      <th>157080</th>\n",
       "      <td>0</td>\n",
       "      <td>8.779557</td>\n",
       "      <td>9.311000</td>\n",
       "      <td>10.308953</td>\n",
       "      <td>13.88</td>\n",
       "      <td>1</td>\n",
       "      <td>1</td>\n",
       "      <td>0</td>\n",
       "      <td>0</td>\n",
       "      <td>0</td>\n",
       "      <td>0</td>\n",
       "      <td>0</td>\n",
       "    </tr>\n",
       "    <tr>\n",
       "      <th>157081</th>\n",
       "      <td>0</td>\n",
       "      <td>9.862666</td>\n",
       "      <td>10.602319</td>\n",
       "      <td>12.432012</td>\n",
       "      <td>14.70</td>\n",
       "      <td>1</td>\n",
       "      <td>0</td>\n",
       "      <td>0</td>\n",
       "      <td>1</td>\n",
       "      <td>0</td>\n",
       "      <td>0</td>\n",
       "      <td>0</td>\n",
       "    </tr>\n",
       "    <tr>\n",
       "      <th>157082</th>\n",
       "      <td>0</td>\n",
       "      <td>8.779557</td>\n",
       "      <td>10.220959</td>\n",
       "      <td>10.736397</td>\n",
       "      <td>27.55</td>\n",
       "      <td>1</td>\n",
       "      <td>1</td>\n",
       "      <td>0</td>\n",
       "      <td>0</td>\n",
       "      <td>0</td>\n",
       "      <td>0</td>\n",
       "      <td>0</td>\n",
       "    </tr>\n",
       "    <tr>\n",
       "      <th>157083</th>\n",
       "      <td>0</td>\n",
       "      <td>9.210340</td>\n",
       "      <td>8.896999</td>\n",
       "      <td>10.596635</td>\n",
       "      <td>23.16</td>\n",
       "      <td>1</td>\n",
       "      <td>0</td>\n",
       "      <td>1</td>\n",
       "      <td>0</td>\n",
       "      <td>0</td>\n",
       "      <td>0</td>\n",
       "      <td>0</td>\n",
       "    </tr>\n",
       "    <tr>\n",
       "      <th>157084</th>\n",
       "      <td>0</td>\n",
       "      <td>9.210340</td>\n",
       "      <td>9.813289</td>\n",
       "      <td>11.512925</td>\n",
       "      <td>15.23</td>\n",
       "      <td>1</td>\n",
       "      <td>0</td>\n",
       "      <td>0</td>\n",
       "      <td>0</td>\n",
       "      <td>0</td>\n",
       "      <td>0</td>\n",
       "      <td>0</td>\n",
       "    </tr>\n",
       "  </tbody>\n",
       "</table>\n",
       "<p>157085 rows × 12 columns</p>\n",
       "</div>"
      ],
      "text/plain": [
       "        def_flag  log_loan_amnt  log_avg_cur_bal  log_annual_inc    dti  \\\n",
       "0              0       9.852194         9.271153       11.407565  14.69   \n",
       "1              0      10.357743        10.479061       11.884489   6.47   \n",
       "2              0       9.390576        10.197201       10.714418  15.55   \n",
       "3              0       9.104980         8.069968       10.778956  27.31   \n",
       "4              0       8.794825         9.486683       10.968198  21.61   \n",
       "...          ...            ...              ...             ...    ...   \n",
       "157080         0       8.779557         9.311000       10.308953  13.88   \n",
       "157081         0       9.862666        10.602319       12.432012  14.70   \n",
       "157082         0       8.779557        10.220959       10.736397  27.55   \n",
       "157083         0       9.210340         8.896999       10.596635  23.16   \n",
       "157084         0       9.210340         9.813289       11.512925  15.23   \n",
       "\n",
       "        employed  2  3  4  5  6  7  \n",
       "0              1  1  0  0  0  0  0  \n",
       "1              1  0  0  1  0  0  0  \n",
       "2              1  0  1  0  0  0  0  \n",
       "3              1  0  1  0  0  0  0  \n",
       "4              1  0  0  0  0  0  0  \n",
       "...          ... .. .. .. .. .. ..  \n",
       "157080         1  1  0  0  0  0  0  \n",
       "157081         1  0  0  1  0  0  0  \n",
       "157082         1  1  0  0  0  0  0  \n",
       "157083         1  0  1  0  0  0  0  \n",
       "157084         1  0  0  0  0  0  0  \n",
       "\n",
       "[157085 rows x 12 columns]"
      ]
     },
     "execution_count": 28,
     "metadata": {},
     "output_type": "execute_result"
    }
   ],
   "source": [
    "df2 = df2.drop(['emp_length_p', 'grade', 1], axis = 1)\n",
    "df2"
   ]
  },
  {
   "cell_type": "code",
   "execution_count": 29,
   "id": "d681e958",
   "metadata": {},
   "outputs": [],
   "source": [
    "# df2['employed'].value_counts()\n",
    "# df2['log_avg_cur_bal'].isnull().values.any()\n",
    "df2 = df2.dropna()"
   ]
  },
  {
   "cell_type": "code",
   "execution_count": 30,
   "id": "43d5a532",
   "metadata": {},
   "outputs": [],
   "source": [
    "X_train, X_test, y_train, y_test = train_test_split(df2.drop('def_flag', axis=1),\n",
    "                                                    df2['def_flag'],\n",
    "                                                    test_size=1/3)"
   ]
  },
  {
   "cell_type": "code",
   "execution_count": 31,
   "id": "5d8998ef",
   "metadata": {},
   "outputs": [
    {
     "data": {
      "text/plain": [
       "LogisticRegression(solver='sag')"
      ]
     },
     "execution_count": 31,
     "metadata": {},
     "output_type": "execute_result"
    }
   ],
   "source": [
    "Model1 = LogisticRegression(solver='sag') # googled the most suitable solver for large dataset\n",
    "Model1.fit(X_train, y_train)"
   ]
  },
  {
   "cell_type": "code",
   "execution_count": 32,
   "id": "adbd53ab",
   "metadata": {},
   "outputs": [
    {
     "data": {
      "text/plain": [
       "0.881113806077042"
      ]
     },
     "execution_count": 32,
     "metadata": {},
     "output_type": "execute_result"
    }
   ],
   "source": [
    "Model1.score(X_test, y_test)"
   ]
  },
  {
   "cell_type": "code",
   "execution_count": 33,
   "id": "beec8a94",
   "metadata": {},
   "outputs": [
    {
     "data": {
      "text/plain": [
       "[<matplotlib.lines.Line2D at 0x28c12c56610>]"
      ]
     },
     "execution_count": 33,
     "metadata": {},
     "output_type": "execute_result"
    },
    {
     "data": {
      "image/png": "[encoded data removed]",
      "text/plain": [
       "<Figure size 432x288 with 1 Axes>"
      ]
     },
     "metadata": {
      "needs_background": "light"
     },
     "output_type": "display_data"
    }
   ],
   "source": [
    "y_pred_prob = Model1.predict_proba(X_test)[::,1]\n",
    "fpr, tpr, _ = metrics.roc_curve(y_test,  y_pred_prob)\n",
    "plt.plot(fpr, tpr)\n",
    "plt.plot(np.linspace(0,1,2), np.linspace(0,1,2))"
   ]
  },
  {
   "cell_type": "code",
   "execution_count": 34,
   "id": "986546dc",
   "metadata": {},
   "outputs": [
    {
     "data": {
      "text/plain": [
       "0.6790692369317199"
      ]
     },
     "execution_count": 34,
     "metadata": {},
     "output_type": "execute_result"
    }
   ],
   "source": [
    "auc = metrics.roc_auc_score(y_test, y_pred_prob)\n",
    "auc"
   ]
  },
  {
   "cell_type": "code",
   "execution_count": 35,
   "id": "3253fc08",
   "metadata": {},
   "outputs": [
    {
     "name": "stdout",
     "output_type": "stream",
     "text": [
      "Optimization terminated successfully.\n",
      "         Current function value: 0.346263\n",
      "         Iterations 7\n"
     ]
    }
   ],
   "source": [
    "x = sm.add_constant(X_train)\n",
    "reg_log = sm.Logit(y_train, x)\n",
    "results_log = reg_log.fit()"
   ]
  },
  {
   "cell_type": "code",
   "execution_count": 36,
   "id": "227faa94",
   "metadata": {},
   "outputs": [
    {
     "data": {
      "text/html": [
       "<table class=\"simpletable\">\n",
       "<caption>Logit Regression Results</caption>\n",
       "<tr>\n",
       "  <th>Dep. Variable:</th>       <td>def_flag</td>     <th>  No. Observations:  </th>  <td>104720</td> \n",
       "</tr>\n",
       "<tr>\n",
       "  <th>Model:</th>                 <td>Logit</td>      <th>  Df Residuals:      </th>  <td>104708</td> \n",
       "</tr>\n",
       "<tr>\n",
       "  <th>Method:</th>                 <td>MLE</td>       <th>  Df Model:          </th>  <td>    11</td> \n",
       "</tr>\n",
       "<tr>\n",
       "  <th>Date:</th>            <td>Thu, 08 Jun 2023</td> <th>  Pseudo R-squ.:     </th>  <td>0.05590</td>\n",
       "</tr>\n",
       "<tr>\n",
       "  <th>Time:</th>                <td>16:25:54</td>     <th>  Log-Likelihood:    </th> <td> -36261.</td>\n",
       "</tr>\n",
       "<tr>\n",
       "  <th>converged:</th>             <td>True</td>       <th>  LL-Null:           </th> <td> -38408.</td>\n",
       "</tr>\n",
       "<tr>\n",
       "  <th>Covariance Type:</th>     <td>nonrobust</td>    <th>  LLR p-value:       </th>  <td> 0.000</td> \n",
       "</tr>\n",
       "</table>\n",
       "<table class=\"simpletable\">\n",
       "<tr>\n",
       "         <td></td>            <th>coef</th>     <th>std err</th>      <th>z</th>      <th>P>|z|</th>  <th>[0.025</th>    <th>0.975]</th>  \n",
       "</tr>\n",
       "<tr>\n",
       "  <th>const</th>           <td>   -1.3897</td> <td>    0.232</td> <td>   -5.977</td> <td> 0.000</td> <td>   -1.845</td> <td>   -0.934</td>\n",
       "</tr>\n",
       "<tr>\n",
       "  <th>log_loan_amnt</th>   <td>    0.1756</td> <td>    0.018</td> <td>    9.695</td> <td> 0.000</td> <td>    0.140</td> <td>    0.211</td>\n",
       "</tr>\n",
       "<tr>\n",
       "  <th>log_avg_cur_bal</th> <td>   -0.1391</td> <td>    0.010</td> <td>  -14.083</td> <td> 0.000</td> <td>   -0.158</td> <td>   -0.120</td>\n",
       "</tr>\n",
       "<tr>\n",
       "  <th>log_annual_inc</th>  <td>   -0.2072</td> <td>    0.026</td> <td>   -7.926</td> <td> 0.000</td> <td>   -0.258</td> <td>   -0.156</td>\n",
       "</tr>\n",
       "<tr>\n",
       "  <th>dti</th>             <td>    0.0154</td> <td>    0.001</td> <td>   12.135</td> <td> 0.000</td> <td>    0.013</td> <td>    0.018</td>\n",
       "</tr>\n",
       "<tr>\n",
       "  <th>employed</th>        <td>   -0.1791</td> <td>    0.040</td> <td>   -4.424</td> <td> 0.000</td> <td>   -0.259</td> <td>   -0.100</td>\n",
       "</tr>\n",
       "<tr>\n",
       "  <th>2</th>               <td>    0.6972</td> <td>    0.047</td> <td>   14.783</td> <td> 0.000</td> <td>    0.605</td> <td>    0.790</td>\n",
       "</tr>\n",
       "<tr>\n",
       "  <th>3</th>               <td>    1.1483</td> <td>    0.045</td> <td>   25.330</td> <td> 0.000</td> <td>    1.059</td> <td>    1.237</td>\n",
       "</tr>\n",
       "<tr>\n",
       "  <th>4</th>               <td>    1.5022</td> <td>    0.046</td> <td>   32.587</td> <td> 0.000</td> <td>    1.412</td> <td>    1.593</td>\n",
       "</tr>\n",
       "<tr>\n",
       "  <th>5</th>               <td>    1.8121</td> <td>    0.049</td> <td>   36.812</td> <td> 0.000</td> <td>    1.716</td> <td>    1.909</td>\n",
       "</tr>\n",
       "<tr>\n",
       "  <th>6</th>               <td>    2.0193</td> <td>    0.060</td> <td>   33.525</td> <td> 0.000</td> <td>    1.901</td> <td>    2.137</td>\n",
       "</tr>\n",
       "<tr>\n",
       "  <th>7</th>               <td>    2.2922</td> <td>    0.091</td> <td>   25.319</td> <td> 0.000</td> <td>    2.115</td> <td>    2.470</td>\n",
       "</tr>\n",
       "</table>"
      ],
      "text/latex": [
       "\\begin{center}\n",
       "\\begin{tabular}{lclc}\n",
       "\\toprule\n",
       "\\textbf{Dep. Variable:}     &    def\\_flag     & \\textbf{  No. Observations:  } &   104720    \\\\\n",
       "\\textbf{Model:}             &      Logit       & \\textbf{  Df Residuals:      } &   104708    \\\\\n",
       "\\textbf{Method:}            &       MLE        & \\textbf{  Df Model:          } &       11    \\\\\n",
       "\\textbf{Date:}              & Thu, 08 Jun 2023 & \\textbf{  Pseudo R-squ.:     } &  0.05590    \\\\\n",
       "\\textbf{Time:}              &     16:25:54     & \\textbf{  Log-Likelihood:    } &   -36261.   \\\\\n",
       "\\textbf{converged:}         &       True       & \\textbf{  LL-Null:           } &   -38408.   \\\\\n",
       "\\textbf{Covariance Type:}   &    nonrobust     & \\textbf{  LLR p-value:       } &    0.000    \\\\\n",
       "\\bottomrule\n",
       "\\end{tabular}\n",
       "\\begin{tabular}{lcccccc}\n",
       "                            & \\textbf{coef} & \\textbf{std err} & \\textbf{z} & \\textbf{P$> |$z$|$} & \\textbf{[0.025} & \\textbf{0.975]}  \\\\\n",
       "\\midrule\n",
       "\\textbf{const}              &      -1.3897  &        0.232     &    -5.977  &         0.000        &       -1.845    &       -0.934     \\\\\n",
       "\\textbf{log\\_loan\\_amnt}    &       0.1756  &        0.018     &     9.695  &         0.000        &        0.140    &        0.211     \\\\\n",
       "\\textbf{log\\_avg\\_cur\\_bal} &      -0.1391  &        0.010     &   -14.083  &         0.000        &       -0.158    &       -0.120     \\\\\n",
       "\\textbf{log\\_annual\\_inc}   &      -0.2072  &        0.026     &    -7.926  &         0.000        &       -0.258    &       -0.156     \\\\\n",
       "\\textbf{dti}                &       0.0154  &        0.001     &    12.135  &         0.000        &        0.013    &        0.018     \\\\\n",
       "\\textbf{employed}           &      -0.1791  &        0.040     &    -4.424  &         0.000        &       -0.259    &       -0.100     \\\\\n",
       "\\textbf{2}                  &       0.6972  &        0.047     &    14.783  &         0.000        &        0.605    &        0.790     \\\\\n",
       "\\textbf{3}                  &       1.1483  &        0.045     &    25.330  &         0.000        &        1.059    &        1.237     \\\\\n",
       "\\textbf{4}                  &       1.5022  &        0.046     &    32.587  &         0.000        &        1.412    &        1.593     \\\\\n",
       "\\textbf{5}                  &       1.8121  &        0.049     &    36.812  &         0.000        &        1.716    &        1.909     \\\\\n",
       "\\textbf{6}                  &       2.0193  &        0.060     &    33.525  &         0.000        &        1.901    &        2.137     \\\\\n",
       "\\textbf{7}                  &       2.2922  &        0.091     &    25.319  &         0.000        &        2.115    &        2.470     \\\\\n",
       "\\bottomrule\n",
       "\\end{tabular}\n",
       "%\\caption{Logit Regression Results}\n",
       "\\end{center}"
      ],
      "text/plain": [
       "<class 'statsmodels.iolib.summary.Summary'>\n",
       "\"\"\"\n",
       "                           Logit Regression Results                           \n",
       "==============================================================================\n",
       "Dep. Variable:               def_flag   No. Observations:               104720\n",
       "Model:                          Logit   Df Residuals:                   104708\n",
       "Method:                           MLE   Df Model:                           11\n",
       "Date:                Thu, 08 Jun 2023   Pseudo R-squ.:                 0.05590\n",
       "Time:                        16:25:54   Log-Likelihood:                -36261.\n",
       "converged:                       True   LL-Null:                       -38408.\n",
       "Covariance Type:            nonrobust   LLR p-value:                     0.000\n",
       "===================================================================================\n",
       "                      coef    std err          z      P>|z|      [0.025      0.975]\n",
       "-----------------------------------------------------------------------------------\n",
       "const              -1.3897      0.232     -5.977      0.000      -1.845      -0.934\n",
       "log_loan_amnt       0.1756      0.018      9.695      0.000       0.140       0.211\n",
       "log_avg_cur_bal    -0.1391      0.010    -14.083      0.000      -0.158      -0.120\n",
       "log_annual_inc     -0.2072      0.026     -7.926      0.000      -0.258      -0.156\n",
       "dti                 0.0154      0.001     12.135      0.000       0.013       0.018\n",
       "employed           -0.1791      0.040     -4.424      0.000      -0.259      -0.100\n",
       "2                   0.6972      0.047     14.783      0.000       0.605       0.790\n",
       "3                   1.1483      0.045     25.330      0.000       1.059       1.237\n",
       "4                   1.5022      0.046     32.587      0.000       1.412       1.593\n",
       "5                   1.8121      0.049     36.812      0.000       1.716       1.909\n",
       "6                   2.0193      0.060     33.525      0.000       1.901       2.137\n",
       "7                   2.2922      0.091     25.319      0.000       2.115       2.470\n",
       "===================================================================================\n",
       "\"\"\""
      ]
     },
     "execution_count": 36,
     "metadata": {},
     "output_type": "execute_result"
    }
   ],
   "source": [
    "results_log.summary()"
   ]
  },
  {
   "cell_type": "code",
   "execution_count": 37,
   "id": "1b1b94a9",
   "metadata": {},
   "outputs": [],
   "source": [
    "# print(Model1.coef_, Model1.intercept_)"
   ]
  },
  {
   "cell_type": "code",
   "execution_count": 38,
   "id": "d6832542",
   "metadata": {},
   "outputs": [
    {
     "data": {
      "text/plain": [
       "72545.34334447635"
      ]
     },
     "execution_count": 38,
     "metadata": {},
     "output_type": "execute_result"
    }
   ],
   "source": [
    "results_log.aic"
   ]
  },
  {
   "cell_type": "code",
   "execution_count": null,
   "id": "613fcd67",
   "metadata": {},
   "outputs": [],
   "source": [
    "# plot roc for training set"
   ]
  }
 ],
 "metadata": {
  "kernelspec": {
   "display_name": "Python 3",
   "language": "python",
   "name": "python3"
  },
  "language_info": {
   "codemirror_mode": {
    "name": "ipython",
    "version": 3
   },
   "file_extension": ".py",
   "mimetype": "text/x-python",
   "name": "python",
   "nbconvert_exporter": "python",
   "pygments_lexer": "ipython3",
   "version": "3.8.8"
  }
 },
 "nbformat": 4,
 "nbformat_minor": 5
}
